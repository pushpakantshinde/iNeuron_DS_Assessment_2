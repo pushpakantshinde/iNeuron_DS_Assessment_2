{
 "cells": [
  {
   "cell_type": "markdown",
   "id": "69d15fb2",
   "metadata": {},
   "source": [
    "### Question 1 -  What is the meaning of six sigma in statistics?  Give proper example"
   ]
  },
  {
   "cell_type": "markdown",
   "id": "a07d842c",
   "metadata": {},
   "source": [
    "`Six Sigma` is a set of techniques and tools for process improvement. It was developed by Motorola in the 1980s and popularized by companies like General Electric. The term \"Six Sigma\" refers to a statistical concept that measures how far a given process deviates from perfection. In other words, it quantifies the level of defects or errors in a process.\n",
    "\n",
    "The goal of `Six Sigma` is to reduce variation and improve the quality of output by identifying and eliminating causes of defects or errors. It aims to achieve virtually defect-free performance, with a target of no more than 3.4 defects per million opportunities (DPMO).\n",
    "\n",
    "In statistical terms, `Six Sigma` represents a process capability measure that calculates the number of standard deviations between the process mean and the nearest specification limit. A Six Sigma process is one that operates within six standard deviations of the mean, which means it has extremely low defect rates.\n",
    "\n",
    "**For example**, let's consider a manufacturing process that produces electronic components. Suppose the target dimension for a specific component is 10 cm, with an acceptable range of 9.95 cm to 10.05 cm. If the process is operating at Six Sigma level, it means that the variation in the produced components is so low that virtually all components fall within this range. In practical terms, this translates to extremely high-quality products with minimal defects.\n",
    "\n",
    "***Six Sigma has its foundations in five key principles:**\n",
    "- Focus on the Customer\n",
    "- Measure the Value Stream and Find Your Problem\n",
    "- Get Rid of the Junk\n",
    "- Keep the Ball Rolling\n",
    "- Ensure a Flexible and Responsive Ecosystem\n",
    "\n",
    "The two main Six Sigma methodologies are `DMAIC` and `DMADV`. Each has its own set of recommended procedures to be implemented for business transformation.\n",
    "\n",
    "`DMAIC` is a data-driven method used to improve existing products or services for better customer satisfaction. It is the acronym for the five phases: D – Define, M – Measure, A – Analyse, I – Improve, C – Control. DMAIC is applied in the manufacturing of a product or delivery of a service.\n",
    "\n",
    "`DMADV` is a part of the Design for Six Sigma (DFSS) process used to design or re-design different processes of product manufacturing or service delivery. The five phases of DMADV are: D – Define, M – Measure, A – Analyse, D – Design, V – Validate. DMADV is employed when existing processes do not meet customer conditions, even after optimization, or when it is required to develop new methods. It is executed by Six Sigma Green Belts and Six Sigma Black Belts and under the supervision of Six Sigma Master Black Belts. We'll get to the belts later.\n",
    "\n",
    "The two methodologies are used in different business settings, and professionals seeking to master these methods and application scenarios would do well to take an online certificate program taught by industry experts.\n"
   ]
  },
  {
   "cell_type": "markdown",
   "id": "40860379",
   "metadata": {},
   "source": [
    "### Question 2 - What type of data does not have a log-normal distribution or a Gaussian distribution?  Give proper example"
   ]
  },
  {
   "cell_type": "markdown",
   "id": "422e5e37",
   "metadata": {},
   "source": [
    "Data that does not have a log-normal distribution or a Gaussian (normal) distribution can take various forms. One common type of data that does not follow these distributions is categorical data.\n",
    "\n",
    "Categorical data consists of categories or groups with no inherent order or magnitude relationship between them. Examples of categorical data include:\n",
    "- Gender: Categories could be \"Male\" and \"Female\".\n",
    "- Eye color: Categories could be \"Blue\", \"Brown\", \"Green\", etc.\n",
    "- Type of vehicle: Categories could be \"Car\", \"Truck\", \"Motorcycle\", etc.\n",
    "- Marital status: Categories could be \"Single\", \"Married\", \"Divorced\", etc.\n",
    "\n",
    "Categorical data does not have a numerical value associated with it, and therefore it cannot be described by a Gaussian distribution. Additionally, categorical data does not have a continuous scale, so it cannot have a log-normal distribution either.\n",
    "\n",
    "Another type of data that may not follow a log-normal or Gaussian distribution is skewed data. Skewed data is data where the distribution is not symmetrical around the mean. Skewed data can be either positively skewed (skewed to the right) or negatively skewed (skewed to the left). Examples of skewed data include income distribution, where a few individuals earn significantly higher incomes than the rest of the population, or the distribution of house prices in a city, where there may be a long tail of high-priced properties.\n",
    "\n",
    "In summary, categorical data and skewed data are examples of data that do not follow a log-normal or Gaussian distribution.\n",
    "\n",
    "**Below are some more examples:**\n",
    "- Counts data: Data representing counts of occurrences, such as the number of customers in a store per hour, the number of defects in a manufacturing process, or the number of website visits per day. Counts data often follows a Poisson distribution or a negative binomial distribution, which are different from Gaussian or log-normal distributions.\n",
    "\n",
    "- Duration data: Data representing the duration of time for events, such as the length of phone calls, the time between customer arrivals at a service desk, or the time taken to complete a task. Duration data often follows a skewed distribution, with a long tail on one side.\n",
    "\n",
    "- Ordinal data: Data that can be ordered but the intervals between values may not be uniform, such as survey responses on a Likert scale (\"strongly disagree\", \"disagree\", \"neutral\", \"agree\", \"strongly agree\"). While ordinal data can sometimes be treated as numerical, it does not have a Gaussian or log-normal distribution because the intervals between categories are not necessarily equal.\n",
    "\n",
    "- Income data: Income distributions are often right-skewed, with a few individuals or households earning significantly higher incomes than the majority. This type of data often requires transformation (e.g., logarithmic transformation) to approximate a Gaussian distribution.\n",
    "\n",
    "- Geographical data: Data related to geographic features, such as elevation, population density, or distance to a landmark, may not follow a Gaussian or log-normal distribution. For example, elevation data may follow a skewed distribution with higher concentrations of data points at lower elevations.\n",
    "\n",
    "- Biological data: Data related to biological processes, such as gene expression levels, enzyme activity, or cell counts, may exhibit complex distributions that do not follow Gaussian or log-normal patterns. These distributions may be influenced by various factors, including genetic variability and environmental conditions.\n",
    "\n",
    "These are just a few examples of data that may not fit a Gaussian or log-normal distribution. The distribution of data depends on the underlying characteristics of the phenomena being studied, and different types of data may require different statistical methods for analysis.\n"
   ]
  },
  {
   "cell_type": "markdown",
   "id": "b8fc2b72",
   "metadata": {},
   "source": [
    "### Question 3 - What is the meaning of the five-number summary in Statistics? Give proper example"
   ]
  },
  {
   "cell_type": "markdown",
   "id": "262f096c",
   "metadata": {},
   "source": [
    "The five-number summary is a set of descriptive statistics that provides a concise summary of the distribution of a dataset. It consists of five values: the minimum, first quartile (Q1), median (second quartile, Q2), third quartile (Q3), and maximum. These values divide the dataset into four equally sized groups, providing information about the spread and central tendency of the data.\n",
    "\n",
    "**Here's what each component of the five-number summary represents:**\n",
    "- Minimum: The smallest value in the dataset.\n",
    "- Q1 (First Quartile): The value below which 25% of the data falls. It is the median of the lower half of the dataset.\n",
    "- Median (Second Quartile): The middle value of the dataset when it is ordered from smallest to largest. It divides the dataset into two equal parts, with 50% of the data falling below and 50% above.\n",
    "- Q3 (Third Quartile): The value below which 75% of the data falls. It is the median of the upper half of the dataset.\n",
    "- Maximum: The largest value in the dataset.\n",
    "\n",
    "The five-number summary is often used to visualize the distribution of the data using a box plot (also known as a box-and-whisker plot). The box plot represents the five-number summary graphically, with a box drawn from Q1 to Q3 and a line (whisker) extending from each end of the box to the minimum and maximum values.\n",
    "\n",
    "Let's illustrate the five-number summary with an example. Suppose we have the following dataset:\n",
    "{5,10,15,20,25,30,35,40,45,50}\n",
    "{5,10,15,20,25,30,35,40,45,50}\n",
    "\n",
    "**The five-number summary for this dataset would be:**\n",
    "- Minimum: 5\n",
    "- Q1: 12.5\n",
    "- Median: 27.5\n",
    "- Q3: 37.5\n",
    "- Maximum: 50\n",
    "\n",
    "To find Q1 and Q3, we need to calculate the median of the lower half and upper half of the dataset, respectively. Since the dataset has an even number of values, we take the average of the two middle values:\n",
    "\n",
    "Q1 = (10 + 15) / 2 = 12.5\n",
    "Q3 = (35 + 40) / 2 = 37.5\n",
    "\n",
    "The median (Q2) is the middle value of the dataset, which is 27.5.\n",
    "This five-number summary provides a concise overview of the distribution of the dataset, allowing us to understand the central tendency, spread, and presence of outliers.\n"
   ]
  },
  {
   "cell_type": "code",
   "execution_count": 2,
   "id": "976abad3",
   "metadata": {},
   "outputs": [
    {
     "name": "stdout",
     "output_type": "stream",
     "text": [
      "Minimum: 15\n",
      "Q1 (First Quartile): 26.25\n",
      "Median: 37.5\n",
      "Q3 (Third Quartile): 48.75\n",
      "Maximum: 60\n"
     ]
    },
    {
     "data": {
      "image/png": "[encoded data removed]",
      "text/plain": [
       "<Figure size 640x480 with 1 Axes>"
      ]
     },
     "metadata": {},
     "output_type": "display_data"
    }
   ],
   "source": [
    "import numpy as np\n",
    "import matplotlib.pyplot as plt\n",
    "\n",
    "# Sample dataset\n",
    "data = np.array([15, 20, 25, 30, 35, 40, 45, 50, 55, 60])\n",
    "\n",
    "# Calculate the minimum\n",
    "minimum = np.min(data)\n",
    "\n",
    "# Calculate Q1 (First Quartile)\n",
    "q1 = np.percentile(data, 25)\n",
    "\n",
    "# Calculate the median (Second Quartile)\n",
    "median = np.median(data)\n",
    "\n",
    "# Calculate Q3 (Third Quartile)\n",
    "q3 = np.percentile(data, 75)\n",
    "\n",
    "# Calculate the maximum\n",
    "maximum = np.max(data)\n",
    "\n",
    "# Print the five-number summary\n",
    "print(\"Minimum:\", minimum)\n",
    "print(\"Q1 (First Quartile):\", q1)\n",
    "print(\"Median:\", median)\n",
    "print(\"Q3 (Third Quartile):\", q3)\n",
    "print(\"Maximum:\", maximum)\n",
    "\n",
    "# Create a box plot\n",
    "plt.boxplot(data)\n",
    "\n",
    "# Add labels and title\n",
    "plt.xlabel('Data')\n",
    "plt.ylabel('Values')\n",
    "plt.title('Box Plot of Sample Dataset')\n",
    "\n",
    "# Show the plot\n",
    "plt.show()\n"
   ]
  },
  {
   "cell_type": "markdown",
   "id": "ee9e2b88",
   "metadata": {},
   "source": [
    "### Question 4 - What is correlation? Give an example with a dataset & graphical representation on jupyter Notebook"
   ]
  },
  {
   "cell_type": "markdown",
   "id": "8ed02951",
   "metadata": {},
   "source": [
    "Correlation is a statistical measure that describes the strength and direction of a relationship between two variables. It quantifies how much one variable changes when another variable changes. The correlation coefficient, denoted by r, ranges from -1 to 1:\n",
    "\n",
    "- r=1: Perfect positive correlation (as one variable increases, the other variable increases proportionally).\n",
    "\n",
    "- r=−1: Perfect negative correlation (as one variable increases, the other variable decreases proportionally).\n",
    "\n",
    "- r=0: No correlation (there is no systematic relationship between the variables).\n",
    "\n",
    "Let's demonstrate correlation with an example using a dataset and graphical representation in a Jupyter Notebook."
   ]
  },
  {
   "cell_type": "code",
   "execution_count": 3,
   "id": "d1934db2",
   "metadata": {},
   "outputs": [
    {
     "name": "stdout",
     "output_type": "stream",
     "text": [
      "Correlation coefficient: 0.9006752160894267\n"
     ]
    },
    {
     "data": {
      "image/png": "[encoded data removed]",
      "text/plain": [
       "<Figure size 640x480 with 1 Axes>"
      ]
     },
     "metadata": {},
     "output_type": "display_data"
    }
   ],
   "source": [
    "import numpy as np\n",
    "import matplotlib.pyplot as plt\n",
    "\n",
    "# Generate example dataset\n",
    "np.random.seed(0)\n",
    "x = np.random.randn(100)  # Random data for variable x\n",
    "y = 2 * x + np.random.randn(100)  # Linear relationship with random noise for variable y\n",
    "\n",
    "# Calculate correlation coefficient\n",
    "correlation_coefficient = np.corrcoef(x, y)[0, 1]\n",
    "print(\"Correlation coefficient:\", correlation_coefficient)\n",
    "\n",
    "# Plot data\n",
    "plt.scatter(x, y)\n",
    "plt.xlabel('Variable X')\n",
    "plt.ylabel('Variable Y')\n",
    "plt.title('Scatter Plot of Variables X and Y')\n",
    "plt.grid(True)\n",
    "plt.show()\n"
   ]
  },
  {
   "cell_type": "markdown",
   "id": "37f78929",
   "metadata": {},
   "source": [
    "In this example, we generate a dataset with two variables, x and y. Variable x is generated from a standard normal distribution, and variable y has a linear relationship with x, with some added random noise. We then calculate the correlation coefficient using NumPy's corrcoef function.\n",
    "\n",
    "The scatter plot visualizes the relationship between the two variables. If there is a positive correlation, the points on the plot will tend to form a pattern that slopes upwards from left to right. Conversely, a negative correlation will result in a downward sloping pattern, and no correlation will produce a scattered pattern with no clear direction."
   ]
  },
  {
   "cell_type": "code",
   "execution_count": null,
   "id": "dc4811d8",
   "metadata": {},
   "outputs": [],
   "source": []
  }
 ],
 "metadata": {
  "kernelspec": {
   "display_name": "Python 3 (ipykernel)",
   "language": "python",
   "name": "python3"
  },
  "language_info": {
   "codemirror_mode": {
    "name": "ipython",
    "version": 3
   },
   "file_extension": ".py",
   "mimetype": "text/x-python",
   "name": "python",
   "nbconvert_exporter": "python",
   "pygments_lexer": "ipython3",
   "version": "3.11.5"
  }
 },
 "nbformat": 4,
 "nbformat_minor": 5
}
