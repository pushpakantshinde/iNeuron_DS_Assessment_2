{
 "cells": [
  {
   "cell_type": "markdown",
   "id": "642d1100",
   "metadata": {},
   "source": [
    "## Python Questions"
   ]
  },
  {
   "cell_type": "markdown",
   "id": "5b47d2ce",
   "metadata": {},
   "source": [
    "### Question 1 - Answer"
   ]
  },
  {
   "cell_type": "code",
   "execution_count": 25,
   "id": "013ffef6",
   "metadata": {},
   "outputs": [
    {
     "name": "stdout",
     "output_type": "stream",
     "text": [
      "output=\n",
      "{'abc': ['def', 'ghi', 'jkl', 'mno', 'pqr', 'stu', 'vwx', 'yz'],\n",
      " 'def': ['ghi', 'jkl', 'mno', 'pqr', 'stu', 'vwx', 'yz'],\n",
      " 'ghi': ['jkl', 'mno', 'pqr', 'stu', 'vwx', 'yz'],\n",
      " 'jkl': ['mno', 'pqr', 'stu', 'vwx', 'yz'],\n",
      " 'mno': ['pqr', 'stu', 'vwx', 'yz'],\n",
      " 'pqr': ['stu', 'vwx', 'yz'],\n",
      " 'stu': ['vwx', 'yz'],\n",
      " 'vwx': ['yz'],\n",
      " 'yz': 'you are finally here !!!'}\n"
     ]
    }
   ],
   "source": [
    "import pprint\n",
    "\n",
    "\n",
    "def flatten_dict(input_dict, output=None, parent_key=\"\"):\n",
    "    if output is None:\n",
    "        output = {}\n",
    "\n",
    "    for key, value in input_dict.items():\n",
    "        if isinstance(value, dict):\n",
    "            flatten_dict(value, output, parent_key + key + \".\")\n",
    "        else:\n",
    "            output[parent_key + key] = value\n",
    "            \n",
    "    return output\n",
    "    \n",
    "\n",
    "def convert_to_output(input_dict):\n",
    "    \n",
    "    flat_dict = flatten_dict(input_dict)\n",
    "    output = {}\n",
    "    \n",
    "    for key, value in flat_dict.items():\n",
    "        keys = key.split(\".\")\n",
    "        for i in range(len(keys)):\n",
    "            if i == (len(keys) - 1):\n",
    "                    output[keys[i]] = value\n",
    "            elif keys[i] not in output:\n",
    "                output[keys[i]] = keys[i+1:]\n",
    "                \n",
    "                \n",
    "    return output\n",
    "\n",
    "input_dictionary = {\"abc\":{\"def\":{\"ghi\":{\"jkl\":{\"mno\":{\"pqr\":{\"stu\":{\"vwx\":{\"yz\":\"you are finally here !!!\"}}}}}}}}}\n",
    "\n",
    "output = convert_to_output(input_dictionary)\n",
    "\n",
    "print('output=')\n",
    "pprint.pprint(output)\n"
   ]
  },
  {
   "cell_type": "markdown",
   "id": "56947b35",
   "metadata": {},
   "source": [
    "The output is as expected in the question."
   ]
  },
  {
   "cell_type": "markdown",
   "id": "8ebe48c9",
   "metadata": {},
   "source": [
    "### Question 2 - Answer"
   ]
  },
  {
   "cell_type": "code",
   "execution_count": 28,
   "id": "2d9bf757",
   "metadata": {},
   "outputs": [
    {
     "name": "stdout",
     "output_type": "stream",
     "text": [
      "Largest minimum distance: 3\n"
     ]
    }
   ],
   "source": [
    "def min_distance_between_horses(stalls, k):\n",
    "    stalls.sort()\n",
    "\n",
    "    def is_valid_distance(dist):\n",
    "        count = 1\n",
    "        last_position = stalls[0]\n",
    "        for i in range(1, len(stalls)):\n",
    "            if stalls[i] - last_position >= dist:\n",
    "                count += 1\n",
    "                last_position = stalls[i]\n",
    "        return count >= k\n",
    "\n",
    "    left, right = 0, stalls[-1] - stalls[0]\n",
    "\n",
    "    while left < right:\n",
    "        mid = (left + right + 1) // 2\n",
    "        if is_valid_distance(mid):\n",
    "            left = mid\n",
    "        else:\n",
    "            right = mid - 1\n",
    "\n",
    "    return left\n",
    "\n",
    "# Example usage:\n",
    "stalls = [1, 2, 4, 8, 9]\n",
    "k = 3\n",
    "largest_min_distance = min_distance_between_horses(stalls, k)\n",
    "print(\"Largest minimum distance:\", largest_min_distance)\n"
   ]
  },
  {
   "cell_type": "markdown",
   "id": "165d2b08",
   "metadata": {},
   "source": [
    "The output is as expected in the question."
   ]
  },
  {
   "cell_type": "markdown",
   "id": "48676967",
   "metadata": {},
   "source": [
    "### Question 3 - Answer"
   ]
  },
  {
   "cell_type": "code",
   "execution_count": 35,
   "id": "c5aa3874",
   "metadata": {
    "scrolled": false
   },
   "outputs": [
    {
     "name": "stdout",
     "output_type": "stream",
     "text": [
      "Size: 7 * 21\n",
      "---------.|.---------\n",
      "------.|..|..|.------\n",
      "---.|..|..|..|..|.---\n",
      "-------WELCOME-------\n",
      "---.|..|..|..|..|.---\n",
      "------.|..|..|.------\n",
      "---------.|.---------\n",
      "\n",
      "\n",
      "Size: 11 * 33\n",
      "---------------.|.---------------\n",
      "------------.|..|..|.------------\n",
      "---------.|..|..|..|..|.---------\n",
      "------.|..|..|..|..|..|..|.------\n",
      "---.|..|..|..|..|..|..|..|..|.---\n",
      "-------------WELCOME-------------\n",
      "---.|..|..|..|..|..|..|..|..|.---\n",
      "------.|..|..|..|..|..|..|.------\n",
      "---------.|..|..|..|..|.---------\n",
      "------------.|..|..|.------------\n",
      "---------------.|.---------------\n"
     ]
    }
   ],
   "source": [
    "def create_door_mat(N, M):\n",
    "    # Top pattern\n",
    "    for i in range(N // 2):\n",
    "        pattern = \".|.\" * (2 * i + 1)\n",
    "        print(pattern.center(M, '-'))\n",
    "\n",
    "    # Welcome message\n",
    "    print(\"WELCOME\".center(M, '-'))\n",
    "\n",
    "    # Bottom pattern (same as top but reversed)\n",
    "    for i in range(N // 2 - 1, -1, -1):\n",
    "        pattern = \".|.\" * (2 * i + 1)\n",
    "        print(pattern.center(M, '-'))\n",
    "\n",
    "# Sample usage:\n",
    "N = 7  # Example odd natural number\n",
    "M = 21  # Example 3 times N\n",
    "print(f\"Size: {N} * {M}\")\n",
    "create_door_mat(N, M)\n",
    "\n",
    "N = 11  \n",
    "M = 33 \n",
    "print(f\"\\n\\nSize: {N} * {M}\")\n",
    "create_door_mat(N, M)\n",
    "\n",
    "\n"
   ]
  },
  {
   "cell_type": "markdown",
   "id": "f4fc0094",
   "metadata": {},
   "source": [
    "The output is as expected in the question."
   ]
  },
  {
   "cell_type": "markdown",
   "id": "de7eafc6",
   "metadata": {},
   "source": [
    "### Question 4 - Answer"
   ]
  },
  {
   "cell_type": "code",
   "execution_count": 36,
   "id": "32fc8d56",
   "metadata": {},
   "outputs": [
    {
     "name": "stdout",
     "output_type": "stream",
     "text": [
      "[[-2, -1, 1, 2], [-2, 0, 0, 2], [-1, 0, 0, 1]]\n"
     ]
    }
   ],
   "source": [
    "def fourSum(nums, target):\n",
    "    nums.sort()\n",
    "    n = len(nums)\n",
    "    result = []\n",
    "    \n",
    "    for i in range(n - 3):\n",
    "        if i > 0 and nums[i] == nums[i - 1]:\n",
    "            continue\n",
    "            \n",
    "        for j in range(i + 1, n - 2):\n",
    "            if j > i + 1 and nums[j] == nums[j - 1]:\n",
    "                continue\n",
    "                \n",
    "            left = j + 1\n",
    "            right = n - 1\n",
    "            \n",
    "            while left < right:\n",
    "                total = nums[i] + nums[j] + nums[left] + nums[right]\n",
    "                \n",
    "                if total == target:\n",
    "                    result.append([nums[i], nums[j], nums[left], nums[right]])\n",
    "                    while left < right and nums[left] == nums[left + 1]:\n",
    "                        left += 1\n",
    "                    while left < right and nums[right] == nums[right - 1]:\n",
    "                        right -= 1\n",
    "                    left += 1\n",
    "                    right -= 1\n",
    "                elif total < target:\n",
    "                    left += 1\n",
    "                else:\n",
    "                    right -= 1\n",
    "    \n",
    "    return result\n",
    "\n",
    "# Example usage:\n",
    "nums = [1, 0, -1, 0, -2, 2]\n",
    "target = 0\n",
    "print(fourSum(nums, target))\n"
   ]
  },
  {
   "cell_type": "code",
   "execution_count": null,
   "id": "6459fb81",
   "metadata": {},
   "outputs": [],
   "source": []
  }
 ],
 "metadata": {
  "kernelspec": {
   "display_name": "Python 3 (ipykernel)",
   "language": "python",
   "name": "python3"
  },
  "language_info": {
   "codemirror_mode": {
    "name": "ipython",
    "version": 3
   },
   "file_extension": ".py",
   "mimetype": "text/x-python",
   "name": "python",
   "nbconvert_exporter": "python",
   "pygments_lexer": "ipython3",
   "version": "3.11.5"
  }
 },
 "nbformat": 4,
 "nbformat_minor": 5
}
